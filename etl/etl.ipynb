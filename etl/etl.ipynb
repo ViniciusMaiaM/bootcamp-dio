{
 "cells": [
  {
   "cell_type": "code",
   "execution_count": null,
   "metadata": {},
   "outputs": [],
   "source": []
  },
  {
   "cell_type": "markdown",
   "metadata": {},
   "source": [
    "# ETl\n",
    "\n",
    "ETLs, são ferramentas de software cuja função é a extração de dados de diversos sistemas, transformação desses dados conforme regras de negócios e por fim o carregamento dos dados geralmente para um Data Mart e/ou Data Warehouse. \n",
    "\n",
    "## Extract:\n",
    "    - Importação de dados de diversos tipos e formatos.\n",
    "\n",
    "## Transform: \n",
    "    - Transforma o tipo de dado, gera colunas, linhas, tipos, mescla e cria tabelas.\n",
    "\n",
    "## Load:\n",
    "    - Carrega para o modelo de dados.\n",
    "\n",
    "### Ferramentas:\n",
    "Existem muitas ferramentas de ETL disponíveis no mercado como: IBM Information Server (Data Stage), o Oracle Data Integrator (ODI), o Informatica Power Center, o Microsoft Integration Services (SSIS). Existe também um conjunto de Ferramentas de ETL Open Source como o PDI – Pentaho Data Integrator e Talend ETL.\n",
    "\n"
   ]
  }
 ],
 "metadata": {
  "language_info": {
   "name": "python"
  },
  "orig_nbformat": 4
 },
 "nbformat": 4,
 "nbformat_minor": 2
}
