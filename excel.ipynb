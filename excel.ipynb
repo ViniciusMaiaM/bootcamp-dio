{
 "cells": [
  {
   "cell_type": "code",
   "execution_count": null,
   "metadata": {},
   "outputs": [],
   "source": [
    "import pandas"
   ]
  },
  {
   "cell_type": "code",
   "execution_count": null,
   "metadata": {},
   "outputs": [],
   "source": [
    "df1 = pandas.read_excel(\"/home/viniciusm/Documents/python/bootcamp-dio/Cusro_Python_Pandas_Digital_Innovation-master/datasets/Aracaju.xlsx\")\n",
    "df2 = pandas.read_excel(\"/home/viniciusm/Documents/python/bootcamp-dio/Cusro_Python_Pandas_Digital_Innovation-master/datasets/Fortaleza.xlsx\")\n",
    "df3 = pandas.read_excel(\"/home/viniciusm/Documents/python/bootcamp-dio/Cusro_Python_Pandas_Digital_Innovation-master/datasets/Natal.xlsx\")\n",
    "df4 = pandas.read_excel(\"/home/viniciusm/Documents/python/bootcamp-dio/Cusro_Python_Pandas_Digital_Innovation-master/datasets/Recife.xlsx\")\n",
    "df5 = pandas.read_excel(\"/home/viniciusm/Documents/python/bootcamp-dio/Cusro_Python_Pandas_Digital_Innovation-master/datasets/Salvador.xlsx\")"
   ]
  },
  {
   "cell_type": "code",
   "execution_count": null,
   "metadata": {},
   "outputs": [],
   "source": [
    "df = pandas.concat([df1,df2,df3,df4,df5])"
   ]
  }
 ],
 "metadata": {
  "kernelspec": {
   "display_name": "Python 3.10.6 64-bit",
   "language": "python",
   "name": "python3"
  },
  "language_info": {
   "name": "python",
   "version": "3.10.6"
  },
  "orig_nbformat": 4,
  "vscode": {
   "interpreter": {
    "hash": "e7370f93d1d0cde622a1f8e1c04877d8463912d04d973331ad4851f04de6915a"
   }
  }
 },
 "nbformat": 4,
 "nbformat_minor": 2
}
